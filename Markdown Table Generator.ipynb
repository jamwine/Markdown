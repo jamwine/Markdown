{
 "cells": [
  {
   "cell_type": "markdown",
   "id": "053406b3",
   "metadata": {},
   "source": [
    "# Markdown Table Generator"
   ]
  },
  {
   "cell_type": "code",
   "execution_count": 1,
   "id": "4ec69e1d",
   "metadata": {},
   "outputs": [],
   "source": [
    "def add_header(mk_text, header):\n",
    "    mk_lines = tuple(filter(None, mk_text.split('\\n')))\n",
    "    \n",
    "    if not mk_lines:\n",
    "        header_line, table_line, other_lines = \"|\", \"|\", []\n",
    "    elif len(mk_lines)==1:\n",
    "        header_line, table_line, other_lines = mk_lines[0], \"|\", []\n",
    "    else:\n",
    "        header_line, table_line, *other_lines = mk_lines\n",
    "\n",
    "    header_line += header+'|'\n",
    "    table_line += '---|'\n",
    "    \n",
    "    mk_text = '\\n'.join([header_line, table_line] + other_lines)        \n",
    "    return mk_text\n",
    "\n",
    "\n",
    "def add_row(mk_text, row):\n",
    "    mk_lines = tuple(filter(None, mk_text.split('\\n')))\n",
    "    assert len(mk_lines)>=2, 'Header Lines Missing!'\n",
    "    \n",
    "    header_line, table_line, *other_lines = mk_lines\n",
    "        \n",
    "    columns = tuple(filter(None, header_line.split('|')))\n",
    "\n",
    "    if not row:\n",
    "        row = '|' + ' |'* len(columns)\n",
    "    other_lines.append(row)\n",
    "    \n",
    "    mk_text = '\\n'.join([header_line, table_line] + other_lines)        \n",
    "    return mk_text\n",
    "\n",
    "\n",
    "def _get_max_length(d):\n",
    "    max_length = 0\n",
    "    for key in d.keys():\n",
    "        value = d.get(key, [])\n",
    "        max_length = max(max_length, len(value))\n",
    "    return max_length\n",
    "\n",
    "\n",
    "def _fill_value(string, sep, pos, value = ''):\n",
    "    split_string = string.split(sep)\n",
    "\n",
    "    end = sep.join(split_string[pos:])\n",
    "    start = list(string[:])\n",
    "    for _ in range(len(end)):\n",
    "        start.pop()\n",
    "    start = ''.join(start)\n",
    "    \n",
    "    return start + value + end\n",
    "\n",
    "\n",
    "def add_values(mk_text, pos, data):\n",
    "    mk_lines = tuple(filter(None, mk_text.split('\\n')))\n",
    "    assert len(mk_lines)>=2, 'Header Lines Missing!'\n",
    "    \n",
    "    header_line, table_line, *other_lines = mk_lines\n",
    "    new_lines = []\n",
    "\n",
    "    for line, value in list(zip(other_lines, data)):\n",
    "        text = f'[{value[0]}]({value[1]})'\n",
    "        line = _fill_value(line, '|', pos, text)\n",
    "        new_lines.append(line)\n",
    "        other_lines.pop(0)\n",
    "\n",
    "    if len(other_lines)>0:\n",
    "        new_lines += other_lines\n",
    "\n",
    "    mk_text = '\\n'.join([header_line, table_line] + new_lines)        \n",
    "    return mk_text"
   ]
  },
  {
   "cell_type": "code",
   "execution_count": 2,
   "id": "d2916b07",
   "metadata": {},
   "outputs": [
    {
     "data": {
      "text/plain": [
       "{'Python': [('Python Beginners Guide',\n",
       "   'https://github.com/jamwine/Python-Beginners-Guide'),\n",
       "  ('Data Structures & Algorithms',\n",
       "   'https://github.com/jamwine/Data-Structures-and-Algorithm'),\n",
       "  ('Django', 'https://github.com/jamwine/Django'),\n",
       "  ('Genetic Algorithms', 'https://github.com/jamwine/Genetic-Algorithms'),\n",
       "  ('Images Using Python', 'https://github.com/jamwine/Images-using-Python')],\n",
       " 'Data Science': [('Statistics', 'https://github.com/jamwine/Statistics'),\n",
       "  ('Machine learning', 'https://github.com/jamwine/Machine-Learning'),\n",
       "  ('TensorFlow', 'https://github.com/jamwine/Tensorflow')],\n",
       " 'Data Engineering': [('SQL', 'https://github.com/jamwine/SQL-in-Python'),\n",
       "  ('Docker', 'https://github.com/jamwine/Docker'),\n",
       "  ('GCP Qwiklabs', 'https://github.com/jamwine/GCP-Qwiklabs'),\n",
       "  ('Apache Beam', 'https://github.com/jamwine/Apache-Beam'),\n",
       "  ('Apache Airflow', 'https://github.com/jamwine/Apache-Airflow'),\n",
       "  ('Unix', 'https://github.com/jamwine/Unix')],\n",
       " 'Data Analytics & Visualizations': [('Pandas',\n",
       "   'https://github.com/jamwine/Learn-Pandas'),\n",
       "  ('Numpy', 'https://github.com/jamwine/Learn-NumPy'),\n",
       "  ('Matplotlib', 'https://github.com/jamwine/Data-Visualization'),\n",
       "  ('Pygal', 'https://github.com/jamwine/Pygal')]}"
      ]
     },
     "execution_count": 2,
     "metadata": {},
     "output_type": "execute_result"
    }
   ],
   "source": [
    "data = {'Python' : [('Python Beginners Guide', 'https://github.com/jamwine/Python-Beginners-Guide'),\n",
    "                    ('Data Structures & Algorithms', 'https://github.com/jamwine/Data-Structures-and-Algorithm'),\n",
    "                   ('Django', 'https://github.com/jamwine/Django'),\n",
    "                   ('Genetic Algorithms', 'https://github.com/jamwine/Genetic-Algorithms'),\n",
    "                   ('Images Using Python', 'https://github.com/jamwine/Images-using-Python')],\n",
    "    \n",
    "        \"Data Science\" : [('Statistics', 'https://github.com/jamwine/Statistics'),\n",
    "                          ('Machine learning', 'https://github.com/jamwine/Machine-Learning'),\n",
    "                          ('TensorFlow', 'https://github.com/jamwine/Tensorflow')],\n",
    "    \n",
    "        \"Data Engineering\" : [('SQL', 'https://github.com/jamwine/SQL-in-Python'),\n",
    "                              ('Docker', 'https://github.com/jamwine/Docker'),\n",
    "                             ('GCP Qwiklabs', 'https://github.com/jamwine/GCP-Qwiklabs'),\n",
    "                             ('Apache Beam', 'https://github.com/jamwine/Apache-Beam'),\n",
    "                             ('Apache Airflow', 'https://github.com/jamwine/Apache-Airflow'),\n",
    "                             ('Unix', 'https://github.com/jamwine/Unix')],\n",
    "    \n",
    "        \"Data Analytics & Visualizations\" : [('Pandas', 'https://github.com/jamwine/Learn-Pandas'),\n",
    "                                             ('Numpy', 'https://github.com/jamwine/Learn-NumPy'),\n",
    "                                            ('Matplotlib', 'https://github.com/jamwine/Data-Visualization'),\n",
    "                                            ('Pygal', 'https://github.com/jamwine/Pygal')]\n",
    "       }\n",
    "\n",
    "data"
   ]
  },
  {
   "cell_type": "code",
   "execution_count": 3,
   "id": "c1649e41",
   "metadata": {},
   "outputs": [
    {
     "name": "stdout",
     "output_type": "stream",
     "text": [
      "|Python|Data Science|Data Engineering|Data Analytics & Visualizations|\n",
      "|---|---|---|---|\n",
      "|[Python Beginners Guide](https://github.com/jamwine/Python-Beginners-Guide) |[Statistics](https://github.com/jamwine/Statistics) |[SQL](https://github.com/jamwine/SQL-in-Python) |[Pandas](https://github.com/jamwine/Learn-Pandas) |\n",
      "|[Data Structures & Algorithms](https://github.com/jamwine/Data-Structures-and-Algorithm) |[Machine learning](https://github.com/jamwine/Machine-Learning) |[Docker](https://github.com/jamwine/Docker) |[Numpy](https://github.com/jamwine/Learn-NumPy) |\n",
      "|[Django](https://github.com/jamwine/Django) |[TensorFlow](https://github.com/jamwine/Tensorflow) |[GCP Qwiklabs](https://github.com/jamwine/GCP-Qwiklabs) |[Matplotlib](https://github.com/jamwine/Data-Visualization) |\n",
      "|[Genetic Algorithms](https://github.com/jamwine/Genetic-Algorithms) | |[Apache Beam](https://github.com/jamwine/Apache-Beam) |[Pygal](https://github.com/jamwine/Pygal) |\n",
      "|[Images Using Python](https://github.com/jamwine/Images-using-Python) | |[Apache Airflow](https://github.com/jamwine/Apache-Airflow) | |\n",
      "| | |[Unix](https://github.com/jamwine/Unix) | |\n"
     ]
    }
   ],
   "source": [
    "mk_text = ''\n",
    "columns = data.keys()\n",
    "for col in columns:\n",
    "    mk_text = add_header(mk_text, col)\n",
    "\n",
    "max_length = _get_max_length(data)\n",
    "\n",
    "for _ in range(max_length):\n",
    "    mk_text = add_row(mk_text, row='')\n",
    "\n",
    "for i, key in enumerate(data.keys(), start=1):\n",
    "    mk_text = add_values(mk_text, i, data.get(key))\n",
    "\n",
    "print(mk_text)"
   ]
  },
  {
   "cell_type": "markdown",
   "id": "427b43f6",
   "metadata": {},
   "source": [
    "### Inserting a new colum `Others`"
   ]
  },
  {
   "cell_type": "code",
   "execution_count": 4,
   "id": "3449bfaf",
   "metadata": {},
   "outputs": [
    {
     "name": "stdout",
     "output_type": "stream",
     "text": [
      "|Python|Data Science|Data Engineering|Data Analytics & Visualizations|Others|\n",
      "|---|---|---|---|---|\n",
      "|[Python Beginners Guide](https://github.com/jamwine/Python-Beginners-Guide) |[Statistics](https://github.com/jamwine/Statistics) |[SQL](https://github.com/jamwine/SQL-in-Python) |[Pandas](https://github.com/jamwine/Learn-Pandas) |[System Design](https://github.com/jamwine/System-Design)\n",
      "|[Data Structures & Algorithms](https://github.com/jamwine/Data-Structures-and-Algorithm) |[Machine learning](https://github.com/jamwine/Machine-Learning) |[Docker](https://github.com/jamwine/Docker) |[Numpy](https://github.com/jamwine/Learn-NumPy) |[Javascript-Beginner-Guide](https://github.com/jamwine/Javascript-Beginner-Guide)\n",
      "|[Django](https://github.com/jamwine/Django) |[TensorFlow](https://github.com/jamwine/Tensorflow) |[GCP Qwiklabs](https://github.com/jamwine/GCP-Qwiklabs) |[Matplotlib](https://github.com/jamwine/Data-Visualization) |[React-Projects](https://github.com/jamwine/React-Projects)\n",
      "|[Genetic Algorithms](https://github.com/jamwine/Genetic-Algorithms) | |[Apache Beam](https://github.com/jamwine/Apache-Beam) |[Pygal](https://github.com/jamwine/Pygal) |[Data](https://github.com/jamwine/Data)\n",
      "|[Images Using Python](https://github.com/jamwine/Images-using-Python) | |[Apache Airflow](https://github.com/jamwine/Apache-Airflow) | |[Markdown](https://github.com/jamwine/Markdown)\n",
      "| | |[Unix](https://github.com/jamwine/Unix) | |\n"
     ]
    }
   ],
   "source": [
    "data['Others'] = [('System Design', 'https://github.com/jamwine/System-Design'),\n",
    "                 ('Javascript-Beginner-Guide', 'https://github.com/jamwine/Javascript-Beginner-Guide'),\n",
    "                 ('React-Projects', 'https://github.com/jamwine/React-Projects'),\n",
    "                 ('Data', 'https://github.com/jamwine/Data'),\n",
    "                  ('Markdown', 'https://github.com/jamwine/Markdown')\n",
    "                 ]\n",
    "\n",
    "mk_text = add_header(mk_text, 'Others')\n",
    "mk_text = add_values(mk_text, pos=5, data = data.get('Others'))\n",
    "\n",
    "print(mk_text)"
   ]
  },
  {
   "cell_type": "markdown",
   "id": "5be01222",
   "metadata": {},
   "source": [
    "#### Copy and paste the result in the bottom Markdown cell"
   ]
  },
  {
   "cell_type": "markdown",
   "id": "d6493943",
   "metadata": {},
   "source": [
    "|Python|Data Science|Data Engineering|Data Analytics & Visualizations|Others|\n",
    "|---|---|---|---|---|\n",
    "|[Python Beginners Guide](https://github.com/jamwine/Python-Beginners-Guide) |[Statistics](https://github.com/jamwine/Statistics) |[SQL](https://github.com/jamwine/SQL-in-Python) |[Pandas](https://github.com/jamwine/Learn-Pandas) |[System Design](https://github.com/jamwine/System-Design)\n",
    "|[Data Structures & Algorithms](https://github.com/jamwine/Data-Structures-and-Algorithm) |[Machine learning](https://github.com/jamwine/Machine-Learning) |[Docker](https://github.com/jamwine/Docker) |[Numpy](https://github.com/jamwine/Learn-NumPy) |[Javascript-Beginner-Guide](https://github.com/jamwine/Javascript-Beginner-Guide)\n",
    "|[Django](https://github.com/jamwine/Django) |[TensorFlow](https://github.com/jamwine/Tensorflow) |[GCP Qwiklabs](https://github.com/jamwine/GCP-Qwiklabs) |[Matplotlib](https://github.com/jamwine/Data-Visualization) |[React-Projects](https://github.com/jamwine/React-Projects)\n",
    "|[Genetic Algorithms](https://github.com/jamwine/Genetic-Algorithms) | |[Apache Beam](https://github.com/jamwine/Apache-Beam) |[Pygal](https://github.com/jamwine/Pygal) |[Data](https://github.com/jamwine/Data)\n",
    "|[Images Using Python](https://github.com/jamwine/Images-using-Python) | |[Apache Airflow](https://github.com/jamwine/Apache-Airflow) | |[Markdown](https://github.com/jamwine/Markdown)\n",
    "| | |[Unix](https://github.com/jamwine/Unix) | |"
   ]
  },
  {
   "cell_type": "code",
   "execution_count": null,
   "id": "b6a91597",
   "metadata": {},
   "outputs": [],
   "source": []
  },
  {
   "cell_type": "code",
   "execution_count": null,
   "id": "2d440cd0",
   "metadata": {},
   "outputs": [],
   "source": []
  },
  {
   "cell_type": "markdown",
   "id": "253bb9ba",
   "metadata": {},
   "source": [
    "### Markdown Formatted text to Normal text"
   ]
  },
  {
   "cell_type": "code",
   "execution_count": 5,
   "id": "7771e453",
   "metadata": {},
   "outputs": [
    {
     "name": "stdout",
     "output_type": "stream",
     "text": [
      "|Python|Data Science|Data Engineering|Data Analytics & Visualizations|Others|\n",
      "|---|---|---|---|---|\n",
      "|Python Beginners Guide |Statistics |SQL |Pandas |System Design\n",
      "|Data Structures & Algorithms |Machine learning |Docker |Numpy |Javascript-Beginner-Guide\n",
      "|Django |TensorFlow |GCP Qwiklabs |Matplotlib |React-Projects\n",
      "|Genetic Algorithms | |Apache Beam |Pygal |Data\n",
      "|Images Using Python | |Apache Airflow | |Markdown\n",
      "| | |Unix | |\n"
     ]
    }
   ],
   "source": [
    "import markdown # pip install markdown\n",
    "from bs4 import BeautifulSoup # pip install beautifulsoup4\n",
    "\n",
    "def md_to_text(md):\n",
    "    html = markdown.markdown(md)\n",
    "    soup = BeautifulSoup(html, features='html.parser')\n",
    "    return soup.get_text()\n",
    "\n",
    "def example(mk_text = '**A** [B](http://example.com) <!-- C -->'):\n",
    "    text = md_to_text(mk_text)\n",
    "    print(text)\n",
    "    \n",
    "example(mk_text)"
   ]
  },
  {
   "cell_type": "code",
   "execution_count": null,
   "id": "b29fee65",
   "metadata": {},
   "outputs": [],
   "source": []
  }
 ],
 "metadata": {
  "kernelspec": {
   "display_name": "Python 3",
   "language": "python",
   "name": "python3"
  },
  "language_info": {
   "codemirror_mode": {
    "name": "ipython",
    "version": 3
   },
   "file_extension": ".py",
   "mimetype": "text/x-python",
   "name": "python",
   "nbconvert_exporter": "python",
   "pygments_lexer": "ipython3",
   "version": "3.9.7"
  },
  "toc": {
   "base_numbering": 1,
   "nav_menu": {},
   "number_sections": false,
   "sideBar": true,
   "skip_h1_title": false,
   "title_cell": "Table of Contents",
   "title_sidebar": "Contents",
   "toc_cell": false,
   "toc_position": {},
   "toc_section_display": true,
   "toc_window_display": false
  },
  "varInspector": {
   "cols": {
    "lenName": 16,
    "lenType": 16,
    "lenVar": 40
   },
   "kernels_config": {
    "python": {
     "delete_cmd_postfix": "",
     "delete_cmd_prefix": "del ",
     "library": "var_list.py",
     "varRefreshCmd": "print(var_dic_list())"
    },
    "r": {
     "delete_cmd_postfix": ") ",
     "delete_cmd_prefix": "rm(",
     "library": "var_list.r",
     "varRefreshCmd": "cat(var_dic_list()) "
    }
   },
   "types_to_exclude": [
    "module",
    "function",
    "builtin_function_or_method",
    "instance",
    "_Feature"
   ],
   "window_display": false
  }
 },
 "nbformat": 4,
 "nbformat_minor": 5
}
